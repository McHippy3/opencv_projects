{
 "cells": [
  {
   "cell_type": "markdown",
   "source": [
    "# 0. Install and Import Dependencies"
   ],
   "metadata": {}
  },
  {
   "cell_type": "code",
   "execution_count": 1,
   "source": [
    "!pip install mediapipe opencv-python"
   ],
   "outputs": [
    {
     "output_type": "stream",
     "name": "stdout",
     "text": [
      "Requirement already satisfied: mediapipe in d:\\libraries\\code\\python\\media_pipeline\\env\\lib\\site-packages (0.8.7.1)\n",
      "Requirement already satisfied: opencv-python in d:\\libraries\\code\\python\\media_pipeline\\env\\lib\\site-packages (4.5.3.56)\n",
      "Requirement already satisfied: protobuf>=3.11.4 in d:\\libraries\\code\\python\\media_pipeline\\env\\lib\\site-packages (from mediapipe) (3.17.3)\n",
      "Requirement already satisfied: six in d:\\libraries\\code\\python\\media_pipeline\\env\\lib\\site-packages (from mediapipe) (1.15.0)\n",
      "Requirement already satisfied: wheel in d:\\libraries\\code\\python\\media_pipeline\\env\\lib\\site-packages (from mediapipe) (0.37.0)\n",
      "Requirement already satisfied: opencv-contrib-python in d:\\libraries\\code\\python\\media_pipeline\\env\\lib\\site-packages (from mediapipe) (4.5.3.56)\n",
      "Requirement already satisfied: attrs>=19.1.0 in d:\\libraries\\code\\python\\media_pipeline\\env\\lib\\site-packages (from mediapipe) (21.2.0)\n",
      "Requirement already satisfied: numpy in d:\\libraries\\code\\python\\media_pipeline\\env\\lib\\site-packages (from mediapipe) (1.19.5)\n",
      "Requirement already satisfied: matplotlib in d:\\libraries\\code\\python\\media_pipeline\\env\\lib\\site-packages (from mediapipe) (3.4.3)\n",
      "Requirement already satisfied: absl-py in d:\\libraries\\code\\python\\media_pipeline\\env\\lib\\site-packages (from mediapipe) (0.13.0)\n",
      "Requirement already satisfied: pillow>=6.2.0 in d:\\libraries\\code\\python\\media_pipeline\\env\\lib\\site-packages (from matplotlib->mediapipe) (8.3.1)\n",
      "Requirement already satisfied: kiwisolver>=1.0.1 in d:\\libraries\\code\\python\\media_pipeline\\env\\lib\\site-packages (from matplotlib->mediapipe) (1.3.1)\n",
      "Requirement already satisfied: python-dateutil>=2.7 in d:\\libraries\\code\\python\\media_pipeline\\env\\lib\\site-packages (from matplotlib->mediapipe) (2.8.2)\n",
      "Requirement already satisfied: pyparsing>=2.2.1 in d:\\libraries\\code\\python\\media_pipeline\\env\\lib\\site-packages (from matplotlib->mediapipe) (2.4.7)\n",
      "Requirement already satisfied: cycler>=0.10 in d:\\libraries\\code\\python\\media_pipeline\\env\\lib\\site-packages (from matplotlib->mediapipe) (0.10.0)\n"
     ]
    },
    {
     "output_type": "stream",
     "name": "stderr",
     "text": [
      "You are using pip version 18.1, however version 21.2.4 is available.\n",
      "You should consider upgrading via the 'python -m pip install --upgrade pip' command.\n"
     ]
    }
   ],
   "metadata": {}
  },
  {
   "cell_type": "code",
   "execution_count": 2,
   "source": [
    "import mediapipe as mp\r\n",
    "import cv2"
   ],
   "outputs": [],
   "metadata": {}
  },
  {
   "cell_type": "code",
   "execution_count": 3,
   "source": [
    "mp_drawing = mp.solutions.drawing_utils\r\n",
    "mp_holistic = mp.solutions.holistic"
   ],
   "outputs": [],
   "metadata": {}
  },
  {
   "cell_type": "markdown",
   "source": [
    "# 1. Get Realtime Webcam Feed"
   ],
   "metadata": {}
  },
  {
   "cell_type": "code",
   "execution_count": 4,
   "source": [
    "cap = cv2.VideoCapture(0)\r\n",
    "while cap.isOpened():\r\n",
    "    ret, frame = cap.read()\r\n",
    "    cv2.imshow('Raw Webcam Feed', frame)\r\n",
    "    \r\n",
    "    if cv2.waitKey(10) & 0xFF == ord('q'):\r\n",
    "        break\r\n",
    "\r\n",
    "cap.release()\r\n",
    "cv2.destroyAllWindows()"
   ],
   "outputs": [],
   "metadata": {}
  },
  {
   "cell_type": "code",
   "execution_count": null,
   "source": [
    "cap.release()\r\n",
    "cv2.destroyAllWindows()"
   ],
   "outputs": [],
   "metadata": {}
  },
  {
   "cell_type": "markdown",
   "source": [
    "# 2. Make Detections from Feed\n",
    "1. Detect Facial Landmarks \n",
    "2. Detect Hand Poses\n",
    "3. Detect Body Poses"
   ],
   "metadata": {}
  },
  {
   "cell_type": "code",
   "execution_count": null,
   "source": [
    "cap = cv2.VideoCapture(0)\r\n",
    "# Initiate holistic model\r\n",
    "with mp_holistic.Holistic(min_detection_confidence=0.5, min_tracking_confidence=0.5) as holistic:\r\n",
    "    \r\n",
    "    while cap.isOpened():\r\n",
    "        ret, frame = cap.read()\r\n",
    "        \r\n",
    "        # Recolor Feed\r\n",
    "        image = cv2.cvtColor(frame, cv2.COLOR_BGR2RGB)\r\n",
    "        # Make Detections\r\n",
    "        results = holistic.process(image)\r\n",
    "        # print(results.face_landmarks)\r\n",
    "        \r\n",
    "        # face_landmarks, pose_landmarks, left_hand_landmarks, right_hand_landmarks\r\n",
    "        \r\n",
    "        # Recolor image back to BGR for rendering\r\n",
    "        image = cv2.cvtColor(image, cv2.COLOR_RGB2BGR)\r\n",
    "        \r\n",
    "        # Draw face landmarks\r\n",
    "        mp_drawing.draw_landmarks(image, results.face_landmarks, mp_holistic.FACEMESH_CONTOURS)\r\n",
    "        \r\n",
    "        # Right hand\r\n",
    "        mp_drawing.draw_landmarks(image, results.right_hand_landmarks, mp_holistic.HAND_CONNECTIONS)\r\n",
    "\r\n",
    "        # Left Hand\r\n",
    "        mp_drawing.draw_landmarks(image, results.left_hand_landmarks, mp_holistic.HAND_CONNECTIONS)\r\n",
    "\r\n",
    "        # Pose Detections\r\n",
    "        mp_drawing.draw_landmarks(image, results.pose_landmarks, mp_holistic.POSE_CONNECTIONS)\r\n",
    "                        \r\n",
    "        cv2.imshow('Raw Webcam Feed', image)\r\n",
    "\r\n",
    "        if cv2.waitKey(10) & 0xFF == ord('q'):\r\n",
    "            break\r\n",
    "\r\n",
    "cap.release()\r\n",
    "cv2.destroyAllWindows()"
   ],
   "outputs": [],
   "metadata": {}
  },
  {
   "cell_type": "code",
   "execution_count": null,
   "source": [
    "mp_holistic.POSE_CONNECTIONS"
   ],
   "outputs": [],
   "metadata": {}
  },
  {
   "cell_type": "markdown",
   "source": [
    "# 3. Apply Styling"
   ],
   "metadata": {}
  },
  {
   "cell_type": "code",
   "execution_count": null,
   "source": [
    "mp_drawing.DrawingSpec(color=(0,0,255), thickness=2, circle_radius=2)"
   ],
   "outputs": [],
   "metadata": {}
  },
  {
   "cell_type": "code",
   "execution_count": null,
   "source": [
    "mp_drawing.draw_landmarks??"
   ],
   "outputs": [],
   "metadata": {}
  },
  {
   "cell_type": "code",
   "execution_count": null,
   "source": [
    "cap = cv2.VideoCapture(0)\r\n",
    "# Initiate holistic model\r\n",
    "with mp_holistic.Holistic(min_detection_confidence=0.5, min_tracking_confidence=0.5) as holistic:\r\n",
    "    \r\n",
    "    while cap.isOpened():\r\n",
    "        ret, frame = cap.read()\r\n",
    "        \r\n",
    "        # Recolor Feed\r\n",
    "        image = cv2.cvtColor(frame, cv2.COLOR_BGR2RGB)\r\n",
    "        # Make Detections\r\n",
    "        results = holistic.process(image)\r\n",
    "        # print(results.face_landmarks)\r\n",
    "        \r\n",
    "        # face_landmarks, pose_landmarks, left_hand_landmarks, right_hand_landmarks\r\n",
    "        \r\n",
    "        # Recolor image back to BGR for rendering\r\n",
    "        image = cv2.cvtColor(image, cv2.COLOR_RGB2BGR)\r\n",
    "        \r\n",
    "        # 1. Draw face landmarks\r\n",
    "        mp_drawing.draw_landmarks(image, results.face_landmarks, mp_holistic.FACEMESH_CONTOURS, \r\n",
    "                                 mp_drawing.DrawingSpec(color=(80,110,10), thickness=1, circle_radius=1),\r\n",
    "                                 mp_drawing.DrawingSpec(color=(80,256,121), thickness=1, circle_radius=1)\r\n",
    "                                 )\r\n",
    "        \r\n",
    "        # 2. Right hand\r\n",
    "        mp_drawing.draw_landmarks(image, results.right_hand_landmarks, mp_holistic.HAND_CONNECTIONS, \r\n",
    "                                 mp_drawing.DrawingSpec(color=(80,22,10), thickness=2, circle_radius=4),\r\n",
    "                                 mp_drawing.DrawingSpec(color=(80,44,121), thickness=2, circle_radius=2)\r\n",
    "                                 )\r\n",
    "\r\n",
    "        # 3. Left Hand\r\n",
    "        mp_drawing.draw_landmarks(image, results.left_hand_landmarks, mp_holistic.HAND_CONNECTIONS, \r\n",
    "                                 mp_drawing.DrawingSpec(color=(121,22,76), thickness=2, circle_radius=4),\r\n",
    "                                 mp_drawing.DrawingSpec(color=(121,44,250), thickness=2, circle_radius=2)\r\n",
    "                                 )\r\n",
    "\r\n",
    "        # 4. Pose Detections\r\n",
    "        mp_drawing.draw_landmarks(image, results.pose_landmarks, mp_holistic.POSE_CONNECTIONS, \r\n",
    "                                 mp_drawing.DrawingSpec(color=(245,117,66), thickness=2, circle_radius=4),\r\n",
    "                                 mp_drawing.DrawingSpec(color=(245,66,230), thickness=2, circle_radius=2)\r\n",
    "                                 )\r\n",
    "                        \r\n",
    "        cv2.imshow('Raw Webcam Feed', image)\r\n",
    "\r\n",
    "        if cv2.waitKey(10) & 0xFF == ord('q'):\r\n",
    "            break\r\n",
    "\r\n",
    "cap.release()\r\n",
    "cv2.destroyAllWindows()"
   ],
   "outputs": [],
   "metadata": {}
  }
 ],
 "metadata": {
  "kernelspec": {
   "name": "python3",
   "display_name": "Python 3.7.2 64-bit ('env': venv)"
  },
  "language_info": {
   "codemirror_mode": {
    "name": "ipython",
    "version": 3
   },
   "file_extension": ".py",
   "mimetype": "text/x-python",
   "name": "python",
   "nbconvert_exporter": "python",
   "pygments_lexer": "ipython3",
   "version": "3.7.2"
  },
  "interpreter": {
   "hash": "bdff638d26d3b407079c084302384e9d8dab7c97d2b0ee117ae4f40204ac21ac"
  }
 },
 "nbformat": 4,
 "nbformat_minor": 2
}